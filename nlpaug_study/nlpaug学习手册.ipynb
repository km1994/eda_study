{
 "cells": [
  {
   "cell_type": "markdown",
   "metadata": {
    "heading_collapsed": true
   },
   "source": [
    "# quick_example"
   ]
  },
  {
   "cell_type": "code",
   "execution_count": 1,
   "metadata": {
    "hidden": true
   },
   "outputs": [],
   "source": [
    "import nlpaug.augmenter.char as nac\n",
    "import nlpaug.augmenter.word as naw\n",
    "import nlpaug.augmenter.sentence as nas"
   ]
  },
  {
   "cell_type": "code",
   "execution_count": 7,
   "metadata": {
    "hidden": true
   },
   "outputs": [
    {
     "name": "stdout",
     "output_type": "stream",
     "text": [
      "The quick brown fox jumps over the lazy dog .\n"
     ]
    }
   ],
   "source": [
    "text = 'The quick brown fox jumps over the lazy dog .'\n",
    "print(text)"
   ]
  },
  {
   "cell_type": "markdown",
   "metadata": {
    "heading_collapsed": true,
    "hidden": true
   },
   "source": [
    "## 1 Input and 1 Output"
   ]
  },
  {
   "cell_type": "code",
   "execution_count": 9,
   "metadata": {
    "hidden": true
   },
   "outputs": [
    {
     "name": "stdout",
     "output_type": "stream",
     "text": [
      "Original:\n",
      "The quick brown fox jumps over the lazy dog .\n",
      "Augmented Text:\n",
      "The quicu brown fox j6mps oger the lazy dog.\n"
     ]
    }
   ],
   "source": [
    "aug = nac.KeyboardAug()\n",
    "augmented_text = aug.augment(text)\n",
    "print(\"Original:\")\n",
    "print(text)\n",
    "print(\"Augmented Text:\")\n",
    "print(augmented_text)"
   ]
  },
  {
   "cell_type": "markdown",
   "metadata": {
    "heading_collapsed": true,
    "hidden": true
   },
   "source": [
    "## 1 Input and N Output"
   ]
  },
  {
   "cell_type": "code",
   "execution_count": 10,
   "metadata": {
    "hidden": true
   },
   "outputs": [
    {
     "name": "stdout",
     "output_type": "stream",
     "text": [
      "Original:\n",
      "The quick brown fox jumps over the lazy dog .\n",
      "Augmented Text:\n",
      "['The @uick brown fox jum(s over the laXy dog.', 'The quick brown fox jum9s oDer the ?azy dog.']\n"
     ]
    }
   ],
   "source": [
    "aug = nac.KeyboardAug()\n",
    "augmented_text = aug.augment(text, n=2)\n",
    "print(\"Original:\")\n",
    "print(text)\n",
    "print(\"Augmented Text:\")\n",
    "print(augmented_text)"
   ]
  },
  {
   "cell_type": "markdown",
   "metadata": {
    "heading_collapsed": true,
    "hidden": true
   },
   "source": [
    "## N Input and N Output"
   ]
  },
  {
   "cell_type": "code",
   "execution_count": 11,
   "metadata": {
    "hidden": true
   },
   "outputs": [],
   "source": [
    "texts = [\n",
    "    'The quick brown fox jumps over the lazy dog .',\n",
    "    'It is proved that augmentation is one of the anchor to success of computer vision model.'\n",
    "]"
   ]
  },
  {
   "cell_type": "code",
   "execution_count": 12,
   "metadata": {
    "hidden": true
   },
   "outputs": [
    {
     "name": "stdout",
     "output_type": "stream",
     "text": [
      "Original:\n",
      "['The quick brown fox jumps over the lazy dog .', 'It is proved that augmentation is one of the anchor to success of computer vision model.']\n",
      "Augmented Text:\n",
      "['The qiick browJ fox jumps ovDr the lazy dog.', 'It is prkved that augnentat&ln is one of the xnchor to success of fomputDr viEion model.']\n"
     ]
    }
   ],
   "source": [
    "aug = nac.KeyboardAug()\n",
    "augmented_text = aug.augment(texts)\n",
    "print(\"Original:\")\n",
    "print(texts)\n",
    "print(\"Augmented Text:\")\n",
    "print(augmented_text)"
   ]
  },
  {
   "cell_type": "markdown",
   "metadata": {
    "heading_collapsed": true
   },
   "source": [
    "# Example of Textual Augmenter Usage"
   ]
  },
  {
   "cell_type": "code",
   "execution_count": 13,
   "metadata": {
    "hidden": true
   },
   "outputs": [],
   "source": [
    "import os\n",
    "os.environ[\"MODEL_DIR\"] = './model'"
   ]
  },
  {
   "cell_type": "code",
   "execution_count": 14,
   "metadata": {
    "hidden": true
   },
   "outputs": [],
   "source": [
    "import nlpaug.augmenter.char as nac\n",
    "import nlpaug.augmenter.word as naw\n",
    "import nlpaug.augmenter.sentence as nas\n",
    "import nlpaug.flow as nafc\n",
    "\n",
    "from nlpaug.util import Action"
   ]
  },
  {
   "cell_type": "code",
   "execution_count": 17,
   "metadata": {
    "hidden": true
   },
   "outputs": [
    {
     "name": "stdout",
     "output_type": "stream",
     "text": [
      "与“计算机视觉”中使用图像数据增强的标准做法不同，在NLP中，文本数据的增强非常少见。\n"
     ]
    }
   ],
   "source": [
    "text = '与“计算机视觉”中使用图像数据增强的标准做法不同，在NLP中，文本数据的增强非常少见。'\n",
    "print(text)"
   ]
  },
  {
   "cell_type": "markdown",
   "metadata": {
    "heading_collapsed": true,
    "hidden": true
   },
   "source": [
    "## Character Augmenter"
   ]
  },
  {
   "cell_type": "markdown",
   "metadata": {
    "heading_collapsed": true,
    "hidden": true
   },
   "source": [
    "### OCR Augmenter"
   ]
  },
  {
   "cell_type": "code",
   "execution_count": 19,
   "metadata": {
    "hidden": true
   },
   "outputs": [
    {
     "name": "stdout",
     "output_type": "stream",
     "text": [
      "Original:\n",
      "与“计算机视觉”中使用图像数据增强的标准做法不同，在NLP中，文本数据的增强非常少见。\n",
      "Augmented Texts:\n",
      "['与 “ 计算机视觉 ” 中使用图像数据增强的标准做法不同 ， 在NLP中 ， 文本数据的增强非常少见 。', '与 “ 计算机视觉 ” 中使用图像数据增强的标准做法不同 ， 在NLP中 ， 文本数据的增强非常少见 。', '与 “ 计算机视觉 ” 中使用图像数据增强的标准做法不同 ， 在NLP中 ， 文本数据的增强非常少见 。']\n"
     ]
    }
   ],
   "source": [
    "# Substitute character by pre-defined OCR error\n",
    "aug = nac.OcrAug()\n",
    "augmented_texts = aug.augment(text, n=3)\n",
    "print(\"Original:\")\n",
    "print(text)\n",
    "print(\"Augmented Texts:\")\n",
    "print(augmented_texts)"
   ]
  },
  {
   "cell_type": "markdown",
   "metadata": {
    "heading_collapsed": true,
    "hidden": true
   },
   "source": [
    "### Keyboard Augmenter"
   ]
  },
  {
   "cell_type": "markdown",
   "metadata": {
    "hidden": true
   },
   "source": [
    "#### Substitute character by keyboard distance"
   ]
  },
  {
   "cell_type": "code",
   "execution_count": 20,
   "metadata": {
    "hidden": true
   },
   "outputs": [
    {
     "name": "stdout",
     "output_type": "stream",
     "text": [
      "Original:\n",
      "与“计算机视觉”中使用图像数据增强的标准做法不同，在NLP中，文本数据的增强非常少见。\n",
      "Augmented Text:\n",
      "与 “ 计算机视觉 ” 中使用图像数据增强的标准做法不同 ， 在NL0中 ， 文本数据的增强非常少见 。\n"
     ]
    }
   ],
   "source": [
    "aug = nac.KeyboardAug()\n",
    "augmented_text = aug.augment(text)\n",
    "print(\"Original:\")\n",
    "print(text)\n",
    "print(\"Augmented Text:\")\n",
    "print(augmented_text)"
   ]
  },
  {
   "cell_type": "markdown",
   "metadata": {
    "hidden": true
   },
   "source": [
    "#### Random Augmenter"
   ]
  },
  {
   "cell_type": "code",
   "execution_count": 21,
   "metadata": {
    "hidden": true
   },
   "outputs": [
    {
     "name": "stdout",
     "output_type": "stream",
     "text": [
      "Original:\n",
      "与“计算机视觉”中使用图像数据增强的标准做法不同，在NLP中，文本数据的增强非常少见。\n",
      "Augmented Text:\n",
      "与 “ 计算机视#觉 ” 中使用图像数据增强的标准做法不同 ， 在_NLP中 ， 文本数0据的增R强非常9少见 。\n"
     ]
    }
   ],
   "source": [
    "# Insert character randomly\n",
    "aug = nac.RandomCharAug(action=\"insert\")\n",
    "augmented_text = aug.augment(text)\n",
    "print(\"Original:\")\n",
    "print(text)\n",
    "print(\"Augmented Text:\")\n",
    "print(augmented_text)"
   ]
  },
  {
   "cell_type": "code",
   "execution_count": 22,
   "metadata": {
    "hidden": true
   },
   "outputs": [
    {
     "name": "stdout",
     "output_type": "stream",
     "text": [
      "Original:\n",
      "与“计算机视觉”中使用图像数据增强的标准做法不同，在NLP中，文本数据的增强非常少见。\n",
      "Augmented Text:\n",
      "与 “ 计算3视觉 ” 中使用图像数据增强的标准做法不同 ， 在NLPm ， 文a数据的增强非_少N 。\n"
     ]
    }
   ],
   "source": [
    "#### Substitute character randomly\n",
    "aug = nac.RandomCharAug(action=\"substitute\")\n",
    "augmented_text = aug.augment(text)\n",
    "print(\"Original:\")\n",
    "print(text)\n",
    "print(\"Augmented Text:\")\n",
    "print(augmented_text)"
   ]
  },
  {
   "cell_type": "code",
   "execution_count": 24,
   "metadata": {
    "hidden": true
   },
   "outputs": [
    {
     "name": "stdout",
     "output_type": "stream",
     "text": [
      "Original:\n",
      "与“计算机视觉”中使用图像数据增强的标准做法不同，在NLP中，文本数据的增强非常少见。\n",
      "Augmented Text:\n",
      "与 “ 计算机觉视 ” 中使用图像数据增强标的做准法不同 ， 在NPL中 ， 文本数据的增强非常少见 。\n"
     ]
    }
   ],
   "source": [
    "# Swap character randomly\n",
    "aug = nac.RandomCharAug(action=\"swap\")\n",
    "augmented_text = aug.augment(text)\n",
    "print(\"Original:\")\n",
    "print(text)\n",
    "print(\"Augmented Text:\")\n",
    "print(augmented_text)"
   ]
  },
  {
   "cell_type": "code",
   "execution_count": 25,
   "metadata": {
    "hidden": true
   },
   "outputs": [
    {
     "name": "stdout",
     "output_type": "stream",
     "text": [
      "Original:\n",
      "与“计算机视觉”中使用图像数据增强的标准做法不同，在NLP中，文本数据的增强非常少见。\n",
      "Augmented Text:\n",
      "与 “ 计机视觉 ” 中使用图像数据增强的标准做法不同 ， 在NP中 ， 文本数据增强常见 。\n"
     ]
    }
   ],
   "source": [
    "# Delete character randomly\n",
    "aug = nac.RandomCharAug(action=\"delete\")\n",
    "augmented_text = aug.augment(text)\n",
    "print(\"Original:\")\n",
    "print(text)\n",
    "print(\"Augmented Text:\")\n",
    "print(augmented_text)"
   ]
  },
  {
   "cell_type": "markdown",
   "metadata": {
    "heading_collapsed": true,
    "hidden": true
   },
   "source": [
    "## Word Augmenter"
   ]
  },
  {
   "cell_type": "markdown",
   "metadata": {
    "hidden": true
   },
   "source": [
    "### Spelling Augmenter"
   ]
  },
  {
   "cell_type": "markdown",
   "metadata": {
    "hidden": true
   },
   "source": [
    "#### Substitute word by spelling mistake words dictionary"
   ]
  },
  {
   "cell_type": "code",
   "execution_count": 21,
   "metadata": {
    "hidden": true
   },
   "outputs": [
    {
     "name": "stdout",
     "output_type": "stream",
     "text": [
      "Original:\n",
      "与 “ 计算机视觉 ” 中 使用 图像 数据增强 的 标准做法 不同 ， 在 NLP 中 ， 文本数据 的 增强 非常少见 。\n",
      "Augmented Texts:\n",
      "['与 “ 计算机视觉 ” 中 使用 图像 数据增强 的 标准做法 不同 ， 在 NLP 中 ， 文本数据 的 增强 非常少见 。', '与 “ 计算机视觉 ” 中 使用 图像 数据增强 的 标准做法 不同 ， 在 NLP 中 ， 文本数据 的 增强 非常少见 。', '与 “ 计算机视觉 ” 中 使用 图像 数据增强 的 标准做法 不同 ， 在 NLP 中 ， 文本数据 的 增强 非常少见 。']\n"
     ]
    }
   ],
   "source": [
    "aug = naw.SpellingAug()\n",
    "augmented_texts = aug.augment(text, n=3)\n",
    "print(\"Original:\")\n",
    "print(text)\n",
    "print(\"Augmented Texts:\")\n",
    "print(augmented_texts)"
   ]
  },
  {
   "cell_type": "code",
   "execution_count": null,
   "metadata": {
    "hidden": true
   },
   "outputs": [],
   "source": []
  },
  {
   "cell_type": "code",
   "execution_count": null,
   "metadata": {
    "hidden": true
   },
   "outputs": [],
   "source": []
  },
  {
   "cell_type": "markdown",
   "metadata": {},
   "source": [
    "# textual_language_augmenter"
   ]
  },
  {
   "cell_type": "code",
   "execution_count": 2,
   "metadata": {},
   "outputs": [],
   "source": [
    "%load_ext autoreload\n",
    "%autoreload 2\n",
    "import importlib\n",
    "import nlpaug.augmenter.char as nac\n",
    "import nlpaug.augmenter.word as naw\n",
    "import nlpaug.augmenter.sentence as nas\n",
    "import nlpaug.flow as nafc\n",
    "\n",
    "from nlpaug.util import Action\n",
    "import os\n",
    "os.environ[\"MODEL_DIR\"] = 'F:/document/datasets/nlpData/pretrain/word_embedding/word2vec/'"
   ]
  },
  {
   "cell_type": "markdown",
   "metadata": {
    "heading_collapsed": true
   },
   "source": [
    "## Word Embeddings Augmenter (fasttext, China)"
   ]
  },
  {
   "cell_type": "code",
   "execution_count": 3,
   "metadata": {
    "code_folding": [
     0
    ],
    "hidden": true
   },
   "outputs": [
    {
     "name": "stdout",
     "output_type": "stream",
     "text": [
      "Original:\n",
      "与“计算机视觉”中使用图像数据增强的标准做法不同，在NLP中，文本数据的增强非常少见。\n",
      "Augmented Text:\n",
      "与 “ 计算 二号机 视觉 ” 中亦有 出现 图像 数 据 增强 的 标准 选取 法新 不同, 在 N LP 水中, 文 亿个 据 了 增强 非常 衍化 。\n"
     ]
    }
   ],
   "source": [
    "# https://github.com/taishi-i/nagisa\n",
    "import nagisa\n",
    "def tokenizer(x):\n",
    "    return nagisa.tagging(text).words\n",
    "\n",
    "text = '与“计算机视觉”中使用图像数据增强的标准做法不同，在NLP中，文本数据的增强非常少见。'\n",
    "aug = naw.WordEmbsAug(model_type='fasttext', tokenizer=tokenizer,\n",
    "                      model_path=os.path.join(os.environ.get(\"MODEL_DIR\"), 'wiki_zh_word2vec/wiki_zh_300.vec'))\n",
    "augmented_text = aug.augment(text)\n",
    "print(\"Original:\")\n",
    "print(text)\n",
    "print(\"Augmented Text:\")\n",
    "print(augmented_text)"
   ]
  },
  {
   "cell_type": "code",
   "execution_count": null,
   "metadata": {
    "hidden": true
   },
   "outputs": [],
   "source": []
  },
  {
   "cell_type": "markdown",
   "metadata": {},
   "source": [
    "## Contextual Word Embeddings Augmenter (BERT)"
   ]
  },
  {
   "cell_type": "code",
   "execution_count": 33,
   "metadata": {},
   "outputs": [],
   "source": [
    "aug = naw.ContextualWordEmbsAug(model_path='bert-base-multilingual-uncased', aug_p=0.1)"
   ]
  },
  {
   "cell_type": "code",
   "execution_count": 9,
   "metadata": {},
   "outputs": [
    {
     "name": "stdout",
     "output_type": "stream",
     "text": [
      "Original:\n",
      "与“计算机视觉”中使用图像数据增强的标准做法不同，在NLP中，文本数据的增强非常少见。\n",
      "Augmented Text:\n",
      "与 “ 计算 录影机 视觉 ” 中要 使用 缩图 数 媒体报道 增强 的 标准 做 法 不同, 在 N LP 中, 文 百万只 媒体报道 总之 下降 非常 低且 。\n"
     ]
    }
   ],
   "source": [
    "text = \"与“计算机视觉”中使用图像数据增强的标准做法不同，在NLP中，文本数据的增强非常少见。\"\n",
    "augmented_text = aug.augment(text)\n",
    "print(\"Original:\")\n",
    "print(text)\n",
    "print(\"Augmented Text:\")\n",
    "print(augmented_text)"
   ]
  },
  {
   "cell_type": "markdown",
   "metadata": {},
   "source": [
    "- 参考：[Example of Augmentation for Multilingual Textual Inputs](https://github.com/makcedward/nlpaug/blob/master/example/textual_language_augmenter.ipynb)"
   ]
  },
  {
   "cell_type": "code",
   "execution_count": null,
   "metadata": {},
   "outputs": [],
   "source": []
  },
  {
   "cell_type": "code",
   "execution_count": null,
   "metadata": {},
   "outputs": [],
   "source": []
  },
  {
   "cell_type": "markdown",
   "metadata": {},
   "source": [
    "## 参考"
   ]
  },
  {
   "cell_type": "code",
   "execution_count": null,
   "metadata": {},
   "outputs": [],
   "source": []
  }
 ],
 "metadata": {
  "kernelspec": {
   "display_name": "Python 3",
   "language": "python",
   "name": "python3"
  },
  "language_info": {
   "codemirror_mode": {
    "name": "ipython",
    "version": 3
   },
   "file_extension": ".py",
   "mimetype": "text/x-python",
   "name": "python",
   "nbconvert_exporter": "python",
   "pygments_lexer": "ipython3",
   "version": "3.7.0"
  },
  "toc": {
   "base_numbering": 1,
   "nav_menu": {},
   "number_sections": true,
   "sideBar": true,
   "skip_h1_title": false,
   "title_cell": "Table of Contents",
   "title_sidebar": "Contents",
   "toc_cell": false,
   "toc_position": {},
   "toc_section_display": true,
   "toc_window_display": false
  }
 },
 "nbformat": 4,
 "nbformat_minor": 2
}
